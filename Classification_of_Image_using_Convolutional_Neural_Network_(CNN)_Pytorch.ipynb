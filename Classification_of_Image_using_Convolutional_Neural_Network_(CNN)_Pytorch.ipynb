{
  "nbformat": 4,
  "nbformat_minor": 0,
  "metadata": {
    "colab": {
      "provenance": [],
      "authorship_tag": "ABX9TyPA4Je4du/uLcWxTgLsxe5V",
      "include_colab_link": true
    },
    "kernelspec": {
      "name": "python3",
      "display_name": "Python 3"
    },
    "language_info": {
      "name": "python"
    },
    "accelerator": "GPU",
    "gpuClass": "standard",
    "widgets": {
      "application/vnd.jupyter.widget-state+json": {
        "e7eb84412ae64fbea9b8486443fc674a": {
          "model_module": "@jupyter-widgets/controls",
          "model_name": "HBoxModel",
          "model_module_version": "1.5.0",
          "state": {
            "_dom_classes": [],
            "_model_module": "@jupyter-widgets/controls",
            "_model_module_version": "1.5.0",
            "_model_name": "HBoxModel",
            "_view_count": null,
            "_view_module": "@jupyter-widgets/controls",
            "_view_module_version": "1.5.0",
            "_view_name": "HBoxView",
            "box_style": "",
            "children": [
              "IPY_MODEL_3ed470ba208a4a25839d6021992e4ad6",
              "IPY_MODEL_fac677d76f1a4aa082abe5e25c7f9f43",
              "IPY_MODEL_97c9009e58ad486cb722af77e11310cc"
            ],
            "layout": "IPY_MODEL_aa06fbf39d264d31853ae1a53d7fdc69"
          }
        },
        "3ed470ba208a4a25839d6021992e4ad6": {
          "model_module": "@jupyter-widgets/controls",
          "model_name": "HTMLModel",
          "model_module_version": "1.5.0",
          "state": {
            "_dom_classes": [],
            "_model_module": "@jupyter-widgets/controls",
            "_model_module_version": "1.5.0",
            "_model_name": "HTMLModel",
            "_view_count": null,
            "_view_module": "@jupyter-widgets/controls",
            "_view_module_version": "1.5.0",
            "_view_name": "HTMLView",
            "description": "",
            "description_tooltip": null,
            "layout": "IPY_MODEL_19a79081543a44538f3f7aa95af30d40",
            "placeholder": "​",
            "style": "IPY_MODEL_4e8e475a001b4b1985f7b74cfc6e7b09",
            "value": "100%"
          }
        },
        "fac677d76f1a4aa082abe5e25c7f9f43": {
          "model_module": "@jupyter-widgets/controls",
          "model_name": "FloatProgressModel",
          "model_module_version": "1.5.0",
          "state": {
            "_dom_classes": [],
            "_model_module": "@jupyter-widgets/controls",
            "_model_module_version": "1.5.0",
            "_model_name": "FloatProgressModel",
            "_view_count": null,
            "_view_module": "@jupyter-widgets/controls",
            "_view_module_version": "1.5.0",
            "_view_name": "ProgressView",
            "bar_style": "success",
            "description": "",
            "description_tooltip": null,
            "layout": "IPY_MODEL_33f6fd8f191f49c581fe285d96518eef",
            "max": 170498071,
            "min": 0,
            "orientation": "horizontal",
            "style": "IPY_MODEL_229d646a796a477b8bcf627553f524c9",
            "value": 170498071
          }
        },
        "97c9009e58ad486cb722af77e11310cc": {
          "model_module": "@jupyter-widgets/controls",
          "model_name": "HTMLModel",
          "model_module_version": "1.5.0",
          "state": {
            "_dom_classes": [],
            "_model_module": "@jupyter-widgets/controls",
            "_model_module_version": "1.5.0",
            "_model_name": "HTMLModel",
            "_view_count": null,
            "_view_module": "@jupyter-widgets/controls",
            "_view_module_version": "1.5.0",
            "_view_name": "HTMLView",
            "description": "",
            "description_tooltip": null,
            "layout": "IPY_MODEL_3bf07805203a4405ac28ac32e6f308ca",
            "placeholder": "​",
            "style": "IPY_MODEL_7623ae2838694cfeaba1b7a3e7bb747e",
            "value": " 170498071/170498071 [00:07&lt;00:00, 33116780.71it/s]"
          }
        },
        "aa06fbf39d264d31853ae1a53d7fdc69": {
          "model_module": "@jupyter-widgets/base",
          "model_name": "LayoutModel",
          "model_module_version": "1.2.0",
          "state": {
            "_model_module": "@jupyter-widgets/base",
            "_model_module_version": "1.2.0",
            "_model_name": "LayoutModel",
            "_view_count": null,
            "_view_module": "@jupyter-widgets/base",
            "_view_module_version": "1.2.0",
            "_view_name": "LayoutView",
            "align_content": null,
            "align_items": null,
            "align_self": null,
            "border": null,
            "bottom": null,
            "display": null,
            "flex": null,
            "flex_flow": null,
            "grid_area": null,
            "grid_auto_columns": null,
            "grid_auto_flow": null,
            "grid_auto_rows": null,
            "grid_column": null,
            "grid_gap": null,
            "grid_row": null,
            "grid_template_areas": null,
            "grid_template_columns": null,
            "grid_template_rows": null,
            "height": null,
            "justify_content": null,
            "justify_items": null,
            "left": null,
            "margin": null,
            "max_height": null,
            "max_width": null,
            "min_height": null,
            "min_width": null,
            "object_fit": null,
            "object_position": null,
            "order": null,
            "overflow": null,
            "overflow_x": null,
            "overflow_y": null,
            "padding": null,
            "right": null,
            "top": null,
            "visibility": null,
            "width": null
          }
        },
        "19a79081543a44538f3f7aa95af30d40": {
          "model_module": "@jupyter-widgets/base",
          "model_name": "LayoutModel",
          "model_module_version": "1.2.0",
          "state": {
            "_model_module": "@jupyter-widgets/base",
            "_model_module_version": "1.2.0",
            "_model_name": "LayoutModel",
            "_view_count": null,
            "_view_module": "@jupyter-widgets/base",
            "_view_module_version": "1.2.0",
            "_view_name": "LayoutView",
            "align_content": null,
            "align_items": null,
            "align_self": null,
            "border": null,
            "bottom": null,
            "display": null,
            "flex": null,
            "flex_flow": null,
            "grid_area": null,
            "grid_auto_columns": null,
            "grid_auto_flow": null,
            "grid_auto_rows": null,
            "grid_column": null,
            "grid_gap": null,
            "grid_row": null,
            "grid_template_areas": null,
            "grid_template_columns": null,
            "grid_template_rows": null,
            "height": null,
            "justify_content": null,
            "justify_items": null,
            "left": null,
            "margin": null,
            "max_height": null,
            "max_width": null,
            "min_height": null,
            "min_width": null,
            "object_fit": null,
            "object_position": null,
            "order": null,
            "overflow": null,
            "overflow_x": null,
            "overflow_y": null,
            "padding": null,
            "right": null,
            "top": null,
            "visibility": null,
            "width": null
          }
        },
        "4e8e475a001b4b1985f7b74cfc6e7b09": {
          "model_module": "@jupyter-widgets/controls",
          "model_name": "DescriptionStyleModel",
          "model_module_version": "1.5.0",
          "state": {
            "_model_module": "@jupyter-widgets/controls",
            "_model_module_version": "1.5.0",
            "_model_name": "DescriptionStyleModel",
            "_view_count": null,
            "_view_module": "@jupyter-widgets/base",
            "_view_module_version": "1.2.0",
            "_view_name": "StyleView",
            "description_width": ""
          }
        },
        "33f6fd8f191f49c581fe285d96518eef": {
          "model_module": "@jupyter-widgets/base",
          "model_name": "LayoutModel",
          "model_module_version": "1.2.0",
          "state": {
            "_model_module": "@jupyter-widgets/base",
            "_model_module_version": "1.2.0",
            "_model_name": "LayoutModel",
            "_view_count": null,
            "_view_module": "@jupyter-widgets/base",
            "_view_module_version": "1.2.0",
            "_view_name": "LayoutView",
            "align_content": null,
            "align_items": null,
            "align_self": null,
            "border": null,
            "bottom": null,
            "display": null,
            "flex": null,
            "flex_flow": null,
            "grid_area": null,
            "grid_auto_columns": null,
            "grid_auto_flow": null,
            "grid_auto_rows": null,
            "grid_column": null,
            "grid_gap": null,
            "grid_row": null,
            "grid_template_areas": null,
            "grid_template_columns": null,
            "grid_template_rows": null,
            "height": null,
            "justify_content": null,
            "justify_items": null,
            "left": null,
            "margin": null,
            "max_height": null,
            "max_width": null,
            "min_height": null,
            "min_width": null,
            "object_fit": null,
            "object_position": null,
            "order": null,
            "overflow": null,
            "overflow_x": null,
            "overflow_y": null,
            "padding": null,
            "right": null,
            "top": null,
            "visibility": null,
            "width": null
          }
        },
        "229d646a796a477b8bcf627553f524c9": {
          "model_module": "@jupyter-widgets/controls",
          "model_name": "ProgressStyleModel",
          "model_module_version": "1.5.0",
          "state": {
            "_model_module": "@jupyter-widgets/controls",
            "_model_module_version": "1.5.0",
            "_model_name": "ProgressStyleModel",
            "_view_count": null,
            "_view_module": "@jupyter-widgets/base",
            "_view_module_version": "1.2.0",
            "_view_name": "StyleView",
            "bar_color": null,
            "description_width": ""
          }
        },
        "3bf07805203a4405ac28ac32e6f308ca": {
          "model_module": "@jupyter-widgets/base",
          "model_name": "LayoutModel",
          "model_module_version": "1.2.0",
          "state": {
            "_model_module": "@jupyter-widgets/base",
            "_model_module_version": "1.2.0",
            "_model_name": "LayoutModel",
            "_view_count": null,
            "_view_module": "@jupyter-widgets/base",
            "_view_module_version": "1.2.0",
            "_view_name": "LayoutView",
            "align_content": null,
            "align_items": null,
            "align_self": null,
            "border": null,
            "bottom": null,
            "display": null,
            "flex": null,
            "flex_flow": null,
            "grid_area": null,
            "grid_auto_columns": null,
            "grid_auto_flow": null,
            "grid_auto_rows": null,
            "grid_column": null,
            "grid_gap": null,
            "grid_row": null,
            "grid_template_areas": null,
            "grid_template_columns": null,
            "grid_template_rows": null,
            "height": null,
            "justify_content": null,
            "justify_items": null,
            "left": null,
            "margin": null,
            "max_height": null,
            "max_width": null,
            "min_height": null,
            "min_width": null,
            "object_fit": null,
            "object_position": null,
            "order": null,
            "overflow": null,
            "overflow_x": null,
            "overflow_y": null,
            "padding": null,
            "right": null,
            "top": null,
            "visibility": null,
            "width": null
          }
        },
        "7623ae2838694cfeaba1b7a3e7bb747e": {
          "model_module": "@jupyter-widgets/controls",
          "model_name": "DescriptionStyleModel",
          "model_module_version": "1.5.0",
          "state": {
            "_model_module": "@jupyter-widgets/controls",
            "_model_module_version": "1.5.0",
            "_model_name": "DescriptionStyleModel",
            "_view_count": null,
            "_view_module": "@jupyter-widgets/base",
            "_view_module_version": "1.2.0",
            "_view_name": "StyleView",
            "description_width": ""
          }
        }
      }
    }
  },
  "cells": [
    {
      "cell_type": "markdown",
      "metadata": {
        "id": "view-in-github",
        "colab_type": "text"
      },
      "source": [
        "<a href=\"https://colab.research.google.com/github/Elman295/Paper_with_code/blob/main/Classification_of_Image_using_Convolutional_Neural_Network_(CNN)_Pytorch.ipynb\" target=\"_parent\"><img src=\"https://colab.research.google.com/assets/colab-badge.svg\" alt=\"Open In Colab\"/></a>"
      ]
    },
    {
      "cell_type": "code",
      "execution_count": 1,
      "metadata": {
        "id": "ft9n6A_7s59p"
      },
      "outputs": [],
      "source": [
        "import torch\n",
        "import torchvision\n",
        "from torch.utils.data import DataLoader\n",
        "from torchvision import datasets\n",
        "from torchvision import transforms\n",
        "from torch import nn \n",
        "import torch.nn.functional as F\n",
        "import numpy as np\n",
        "import matplotlib.pyplot as plt"
      ]
    },
    {
      "cell_type": "code",
      "source": [
        "trans = transforms.Compose([\n",
        "    \n",
        "    transforms.ToTensor(),\n",
        "    transforms.Normalize(mean = (0.5,0.5,0.5), std = (0.5,0.5,0.5))\n",
        "])\n",
        "\n",
        "\n",
        "training_data = datasets.CIFAR10(\n",
        "    \n",
        "    root = \"data\",\n",
        "    train = True,\n",
        "    download = True,\n",
        "    transform= trans\n",
        ")\n",
        "\n",
        "\n",
        "\n",
        "validation_data = datasets.CIFAR10(\n",
        "    \n",
        "    root = \"data\",\n",
        "    train = False,\n",
        "    download = True,\n",
        "    transform = trans\n",
        ")"
      ],
      "metadata": {
        "colab": {
          "base_uri": "https://localhost:8080/",
          "height": 101,
          "referenced_widgets": [
            "e7eb84412ae64fbea9b8486443fc674a",
            "3ed470ba208a4a25839d6021992e4ad6",
            "fac677d76f1a4aa082abe5e25c7f9f43",
            "97c9009e58ad486cb722af77e11310cc",
            "aa06fbf39d264d31853ae1a53d7fdc69",
            "19a79081543a44538f3f7aa95af30d40",
            "4e8e475a001b4b1985f7b74cfc6e7b09",
            "33f6fd8f191f49c581fe285d96518eef",
            "229d646a796a477b8bcf627553f524c9",
            "3bf07805203a4405ac28ac32e6f308ca",
            "7623ae2838694cfeaba1b7a3e7bb747e"
          ]
        },
        "id": "trXf-i9KuN4s",
        "outputId": "aa2dd541-ad65-4a89-c357-4f2a8bb86955"
      },
      "execution_count": 2,
      "outputs": [
        {
          "output_type": "stream",
          "name": "stdout",
          "text": [
            "Downloading https://www.cs.toronto.edu/~kriz/cifar-10-python.tar.gz to data/cifar-10-python.tar.gz\n"
          ]
        },
        {
          "output_type": "display_data",
          "data": {
            "text/plain": [
              "  0%|          | 0/170498071 [00:00<?, ?it/s]"
            ],
            "application/vnd.jupyter.widget-view+json": {
              "version_major": 2,
              "version_minor": 0,
              "model_id": "e7eb84412ae64fbea9b8486443fc674a"
            }
          },
          "metadata": {}
        },
        {
          "output_type": "stream",
          "name": "stdout",
          "text": [
            "Extracting data/cifar-10-python.tar.gz to data\n",
            "Files already downloaded and verified\n"
          ]
        }
      ]
    },
    {
      "cell_type": "code",
      "source": [
        "training_data.class_to_idx"
      ],
      "metadata": {
        "colab": {
          "base_uri": "https://localhost:8080/"
        },
        "id": "c1spBK4GvaSO",
        "outputId": "c8b9b0d7-ae01-4007-c740-336393f7dec5"
      },
      "execution_count": 3,
      "outputs": [
        {
          "output_type": "execute_result",
          "data": {
            "text/plain": [
              "{'airplane': 0,\n",
              " 'automobile': 1,\n",
              " 'bird': 2,\n",
              " 'cat': 3,\n",
              " 'deer': 4,\n",
              " 'dog': 5,\n",
              " 'frog': 6,\n",
              " 'horse': 7,\n",
              " 'ship': 8,\n",
              " 'truck': 9}"
            ]
          },
          "metadata": {},
          "execution_count": 3
        }
      ]
    },
    {
      "cell_type": "code",
      "source": [
        "classes = training_data.classes\n",
        "\n",
        "image, label = training_data[0] \n",
        "\n",
        "print(image.shape)\n",
        "print(image.dtype)\n",
        "print(classes[label])"
      ],
      "metadata": {
        "colab": {
          "base_uri": "https://localhost:8080/"
        },
        "id": "mZOG6KDNvw8y",
        "outputId": "f2292b96-edd6-49aa-a0ce-bee832a7e5ba"
      },
      "execution_count": 4,
      "outputs": [
        {
          "output_type": "stream",
          "name": "stdout",
          "text": [
            "torch.Size([3, 32, 32])\n",
            "torch.float32\n",
            "frog\n"
          ]
        }
      ]
    },
    {
      "cell_type": "code",
      "source": [
        "plt.imshow(np.transpose(image)) \n",
        "plt.show()"
      ],
      "metadata": {
        "colab": {
          "base_uri": "https://localhost:8080/",
          "height": 283
        },
        "id": "QdonNUnywBJu",
        "outputId": "ee40e40c-4f7a-4c43-adb7-281b34d2fe29"
      },
      "execution_count": 5,
      "outputs": [
        {
          "output_type": "stream",
          "name": "stderr",
          "text": [
            "WARNING:matplotlib.image:Clipping input data to the valid range for imshow with RGB data ([0..1] for floats or [0..255] for integers).\n"
          ]
        },
        {
          "output_type": "display_data",
          "data": {
            "text/plain": [
              "<Figure size 432x288 with 1 Axes>"
            ],
            "image/png": "[encoded data removed]"
          },
          "metadata": {
            "needs_background": "light"
          }
        }
      ]
    },
    {
      "cell_type": "code",
      "source": [
        "batch_size = 60\n",
        "\n",
        "train_dataloader =DataLoader(dataset = training_data, batch_size = 64, shuffle = True) \n",
        "\n",
        "test_dataloader = DataLoader(dataset = validation_data, batch_size = 64, shuffle = True)"
      ],
      "metadata": {
        "id": "nunof7LVwIJ4"
      },
      "execution_count": 6,
      "outputs": []
    },
    {
      "cell_type": "code",
      "source": [
        "train_dataloader.dataset"
      ],
      "metadata": {
        "colab": {
          "base_uri": "https://localhost:8080/"
        },
        "id": "oLzBXNUaxwVm",
        "outputId": "56edd8fd-66e9-44b9-a952-a1959555fccd"
      },
      "execution_count": 7,
      "outputs": [
        {
          "output_type": "execute_result",
          "data": {
            "text/plain": [
              "Dataset CIFAR10\n",
              "    Number of datapoints: 50000\n",
              "    Root location: data\n",
              "    Split: Train\n",
              "    StandardTransform\n",
              "Transform: Compose(\n",
              "               ToTensor()\n",
              "               Normalize(mean=(0.5, 0.5, 0.5), std=(0.5, 0.5, 0.5))\n",
              "           )"
            ]
          },
          "metadata": {},
          "execution_count": 7
        }
      ]
    },
    {
      "cell_type": "code",
      "source": [
        "len(train_dataloader) # number of batches"
      ],
      "metadata": {
        "colab": {
          "base_uri": "https://localhost:8080/"
        },
        "id": "9KR3djX_x2ME",
        "outputId": "c83bf86b-17cb-41b8-ee19-20fd8b715210"
      },
      "execution_count": 8,
      "outputs": [
        {
          "output_type": "execute_result",
          "data": {
            "text/plain": [
              "782"
            ]
          },
          "metadata": {},
          "execution_count": 8
        }
      ]
    },
    {
      "cell_type": "code",
      "source": [
        "class CNN_Model(nn.Module):\n",
        "\n",
        "  def __init__(self):\n",
        "    super(CNN_Model, self).__init__()\n",
        "    self.layer_1 = nn.Conv2d(3,32,5) \n",
        "    self.MP = nn.MaxPool2d(2,2)\n",
        "    self.layer_3 = nn.Conv2d(32,32,5)\n",
        "    self.AP = nn.AvgPool2d(2,2)\n",
        "    self.layer_5 = nn.Conv2d(32,64,5) \n",
        "    self.fc1 = nn.Linear(1*1*64,10)\n",
        "\n",
        "\n",
        "  def forward(self, x):\n",
        "\n",
        "    x = self.MP(F.relu(self.layer_1(x))) \n",
        "    x = self.AP(F.relu(self.layer_3(x))) \n",
        "    x = F.relu(self.layer_5(x)) \n",
        "    x = torch.flatten(x,1) \n",
        "    logits = self.fc1(x)\n",
        "    return logits\n",
        "\n",
        "\n"
      ],
      "metadata": {
        "id": "LrjdgfPZyoW-"
      },
      "execution_count": 32,
      "outputs": []
    },
    {
      "cell_type": "code",
      "source": [
        "noise = torch.randn(size = (1,3,32,32))\n",
        "model_1 = CNN_Model()\n",
        "print(model_1(noise))"
      ],
      "metadata": {
        "colab": {
          "base_uri": "https://localhost:8080/"
        },
        "id": "XO4sOGcu4EAz",
        "outputId": "26151e3b-302e-41f4-8525-a3acb652a415"
      },
      "execution_count": 33,
      "outputs": [
        {
          "output_type": "stream",
          "name": "stdout",
          "text": [
            "tensor([[ 0.0165, -0.0480, -0.0462, -0.1002,  0.1727,  0.0245,  0.0946, -0.0498,\n",
            "         -0.0898,  0.0049]], grad_fn=<AddmmBackward0>)\n"
          ]
        }
      ]
    },
    {
      "cell_type": "code",
      "source": [
        "model_1"
      ],
      "metadata": {
        "colab": {
          "base_uri": "https://localhost:8080/"
        },
        "id": "V84cnanL4Q5F",
        "outputId": "8b293ab8-ba23-4721-8283-6bf2ab35cea6"
      },
      "execution_count": 34,
      "outputs": [
        {
          "output_type": "execute_result",
          "data": {
            "text/plain": [
              "CNN_Model(\n",
              "  (layer_1): Conv2d(3, 32, kernel_size=(5, 5), stride=(1, 1))\n",
              "  (MP): MaxPool2d(kernel_size=2, stride=2, padding=0, dilation=1, ceil_mode=False)\n",
              "  (layer_3): Conv2d(32, 32, kernel_size=(5, 5), stride=(1, 1))\n",
              "  (AP): AvgPool2d(kernel_size=2, stride=2, padding=0)\n",
              "  (layer_5): Conv2d(32, 64, kernel_size=(5, 5), stride=(1, 1))\n",
              "  (fc1): Linear(in_features=64, out_features=10, bias=True)\n",
              ")"
            ]
          },
          "metadata": {},
          "execution_count": 34
        }
      ]
    },
    {
      "cell_type": "code",
      "source": [
        "model_1.get_parameter"
      ],
      "metadata": {
        "colab": {
          "base_uri": "https://localhost:8080/"
        },
        "id": "b9hTr6nf4aBS",
        "outputId": "ba2d0130-2276-4c33-de78-8f21a315c129"
      },
      "execution_count": 35,
      "outputs": [
        {
          "output_type": "execute_result",
          "data": {
            "text/plain": [
              "<bound method Module.get_parameter of CNN_Model(\n",
              "  (layer_1): Conv2d(3, 32, kernel_size=(5, 5), stride=(1, 1))\n",
              "  (MP): MaxPool2d(kernel_size=2, stride=2, padding=0, dilation=1, ceil_mode=False)\n",
              "  (layer_3): Conv2d(32, 32, kernel_size=(5, 5), stride=(1, 1))\n",
              "  (AP): AvgPool2d(kernel_size=2, stride=2, padding=0)\n",
              "  (layer_5): Conv2d(32, 64, kernel_size=(5, 5), stride=(1, 1))\n",
              "  (fc1): Linear(in_features=64, out_features=10, bias=True)\n",
              ")>"
            ]
          },
          "metadata": {},
          "execution_count": 35
        }
      ]
    },
    {
      "cell_type": "code",
      "source": [
        "def train(dataloader, model, loss_function, optimizer):\n",
        "  size = len(dataloader.dataset) \n",
        "\n",
        "  for batch, (x,y) in enumerate(dataloader):\n",
        "    x,y = x.to(torch.device(\"cuda\")), y.to(torch.device(\"cuda\"))\n",
        "\n",
        "    y_pred = model(x) \n",
        "    loss = loss_function(y_pred,y) \n",
        "\n",
        "    optimizer.zero_grad()\n",
        "    loss.backward()\n",
        "    optimizer.step()\n",
        "\n",
        "    if batch % 100 == 0:\n",
        "      loss, current = loss.item(), batch * len(x) \n",
        "      print(f\"loss is {loss}, [{current} / {size}]\")\n"
      ],
      "metadata": {
        "id": "IveOYm9d4hg9"
      },
      "execution_count": 36,
      "outputs": []
    },
    {
      "cell_type": "code",
      "source": [
        "def test(dataloader, model, loss_function):\n",
        "  size = len(dataloader.dataset)\n",
        "  num_batches = len(dataloader)\n",
        "  correct, test_loss = 0,0\n",
        "  with torch.no_grad():\n",
        "    for x,y in dataloader:\n",
        "      x,y = x.to(torch.device(\"cuda\")), y.to(torch.device(\"cuda\"))\n",
        "      y_pred = model(x) \n",
        "      test_loss += loss_function(y_pred, y).item() \n",
        "      correct += (y_pred.argmax(1) == y).type(torch.float).sum().item() \n",
        "  test_loss /= num_batches\n",
        "  correct /= size \n",
        "\n",
        "  print(f\"accuracy is {correct * 100}, test_loss is {test_loss}\") "
      ],
      "metadata": {
        "id": "g63mgbIl8xX9"
      },
      "execution_count": 37,
      "outputs": []
    },
    {
      "cell_type": "code",
      "source": [
        "optimizer_fn = torch.optim.SGD(params = model_1.parameters(), lr = 1e-3)\n",
        "loss_fn = nn.CrossEntropyLoss() "
      ],
      "metadata": {
        "id": "d4B0HFHf9gKC"
      },
      "execution_count": 39,
      "outputs": []
    },
    {
      "cell_type": "code",
      "source": [
        "torch.cuda.is_available()\n",
        "\n",
        "model_1.to(torch.device(\"cuda\")) \n",
        "\n"
      ],
      "metadata": {
        "colab": {
          "base_uri": "https://localhost:8080/"
        },
        "id": "CJKfnLpL_TNQ",
        "outputId": "947dcbf3-b416-4cc1-abf8-3b80ab74b42a"
      },
      "execution_count": 40,
      "outputs": [
        {
          "output_type": "execute_result",
          "data": {
            "text/plain": [
              "CNN_Model(\n",
              "  (layer_1): Conv2d(3, 32, kernel_size=(5, 5), stride=(1, 1))\n",
              "  (MP): MaxPool2d(kernel_size=2, stride=2, padding=0, dilation=1, ceil_mode=False)\n",
              "  (layer_3): Conv2d(32, 32, kernel_size=(5, 5), stride=(1, 1))\n",
              "  (AP): AvgPool2d(kernel_size=2, stride=2, padding=0)\n",
              "  (layer_5): Conv2d(32, 64, kernel_size=(5, 5), stride=(1, 1))\n",
              "  (fc1): Linear(in_features=64, out_features=10, bias=True)\n",
              ")"
            ]
          },
          "metadata": {},
          "execution_count": 40
        }
      ]
    },
    {
      "cell_type": "code",
      "source": [
        "EPOCHS = 50\n",
        "\n",
        "for epoch in range(EPOCHS):\n",
        "  print(f\"epoch:{epoch+1}-----------------------------------\")\n",
        "  train(train_dataloader, model_1, loss_fn,optimizer_fn) \n",
        "  test(test_dataloader, model_1, loss_fn) \n",
        "\n",
        "print(\"DONE!!!\")"
      ],
      "metadata": {
        "colab": {
          "base_uri": "https://localhost:8080/"
        },
        "id": "e4ipwMTM99-q",
        "outputId": "cb7c3ceb-86ce-40e8-8286-3810af1c0b5a"
      },
      "execution_count": 41,
      "outputs": [
        {
          "output_type": "stream",
          "name": "stdout",
          "text": [
            "epoch:1-----------------------------------\n",
            "loss is 2.303088903427124, [0 / 50000]\n",
            "loss is 2.3022475242614746, [6400 / 50000]\n",
            "loss is 2.291127920150757, [12800 / 50000]\n",
            "loss is 2.3105125427246094, [19200 / 50000]\n",
            "loss is 2.2987043857574463, [25600 / 50000]\n",
            "loss is 2.3014914989471436, [32000 / 50000]\n",
            "loss is 2.303316116333008, [38400 / 50000]\n",
            "loss is 2.2904653549194336, [44800 / 50000]\n",
            "accuracy is 11.06, test_loss is 2.2978102705281254\n",
            "epoch:2-----------------------------------\n",
            "loss is 2.3023948669433594, [0 / 50000]\n",
            "loss is 2.2902958393096924, [6400 / 50000]\n",
            "loss is 2.286245584487915, [12800 / 50000]\n",
            "loss is 2.288184642791748, [19200 / 50000]\n",
            "loss is 2.2879226207733154, [25600 / 50000]\n",
            "loss is 2.3047165870666504, [32000 / 50000]\n",
            "loss is 2.2935030460357666, [38400 / 50000]\n",
            "loss is 2.289886236190796, [44800 / 50000]\n",
            "accuracy is 14.499999999999998, test_loss is 2.2886234483901102\n",
            "epoch:3-----------------------------------\n",
            "loss is 2.290912628173828, [0 / 50000]\n",
            "loss is 2.2863738536834717, [6400 / 50000]\n",
            "loss is 2.2970833778381348, [12800 / 50000]\n",
            "loss is 2.283327102661133, [19200 / 50000]\n",
            "loss is 2.277092695236206, [25600 / 50000]\n",
            "loss is 2.260122776031494, [32000 / 50000]\n",
            "loss is 2.2819528579711914, [38400 / 50000]\n",
            "loss is 2.2822203636169434, [44800 / 50000]\n",
            "accuracy is 17.11, test_loss is 2.2686419760345653\n",
            "epoch:4-----------------------------------\n",
            "loss is 2.2565112113952637, [0 / 50000]\n",
            "loss is 2.2763335704803467, [6400 / 50000]\n",
            "loss is 2.231398344039917, [12800 / 50000]\n",
            "loss is 2.275904417037964, [19200 / 50000]\n",
            "loss is 2.259854555130005, [25600 / 50000]\n",
            "loss is 2.2518110275268555, [32000 / 50000]\n",
            "loss is 2.2488491535186768, [38400 / 50000]\n",
            "loss is 2.2234835624694824, [44800 / 50000]\n",
            "accuracy is 19.63, test_loss is 2.222069741814\n",
            "epoch:5-----------------------------------\n",
            "loss is 2.2036478519439697, [0 / 50000]\n",
            "loss is 2.206733465194702, [6400 / 50000]\n",
            "loss is 2.2054593563079834, [12800 / 50000]\n",
            "loss is 2.227245569229126, [19200 / 50000]\n",
            "loss is 2.2108747959136963, [25600 / 50000]\n",
            "loss is 2.246276378631592, [32000 / 50000]\n",
            "loss is 2.1589369773864746, [38400 / 50000]\n",
            "loss is 2.1476433277130127, [44800 / 50000]\n",
            "accuracy is 24.03, test_loss is 2.1314481337359\n",
            "epoch:6-----------------------------------\n",
            "loss is 2.1303324699401855, [0 / 50000]\n",
            "loss is 2.090585231781006, [6400 / 50000]\n",
            "loss is 2.177048683166504, [12800 / 50000]\n",
            "loss is 2.1048226356506348, [19200 / 50000]\n",
            "loss is 2.1559131145477295, [25600 / 50000]\n",
            "loss is 2.06290602684021, [32000 / 50000]\n",
            "loss is 2.150070905685425, [38400 / 50000]\n",
            "loss is 1.971124529838562, [44800 / 50000]\n",
            "accuracy is 27.96, test_loss is 2.039666626863419\n",
            "epoch:7-----------------------------------\n",
            "loss is 1.9906935691833496, [0 / 50000]\n",
            "loss is 2.1210436820983887, [6400 / 50000]\n",
            "loss is 1.9174613952636719, [12800 / 50000]\n",
            "loss is 2.018660306930542, [19200 / 50000]\n",
            "loss is 2.038714647293091, [25600 / 50000]\n",
            "loss is 1.965311884880066, [32000 / 50000]\n",
            "loss is 1.9274522066116333, [38400 / 50000]\n",
            "loss is 1.8440449237823486, [44800 / 50000]\n",
            "accuracy is 30.099999999999998, test_loss is 1.9782420928311195\n",
            "epoch:8-----------------------------------\n",
            "loss is 1.9810945987701416, [0 / 50000]\n",
            "loss is 1.9317537546157837, [6400 / 50000]\n",
            "loss is 1.9833110570907593, [12800 / 50000]\n",
            "loss is 2.038020133972168, [19200 / 50000]\n",
            "loss is 2.0829105377197266, [25600 / 50000]\n",
            "loss is 1.9959661960601807, [32000 / 50000]\n",
            "loss is 2.076974391937256, [38400 / 50000]\n",
            "loss is 1.8787028789520264, [44800 / 50000]\n",
            "accuracy is 31.0, test_loss is 1.94075767553536\n",
            "epoch:9-----------------------------------\n",
            "loss is 2.057745933532715, [0 / 50000]\n",
            "loss is 1.7879958152770996, [6400 / 50000]\n",
            "loss is 1.9319791793823242, [12800 / 50000]\n",
            "loss is 1.8855727910995483, [19200 / 50000]\n",
            "loss is 2.0021917819976807, [25600 / 50000]\n",
            "loss is 1.8374425172805786, [32000 / 50000]\n",
            "loss is 1.9899368286132812, [38400 / 50000]\n",
            "loss is 1.8236989974975586, [44800 / 50000]\n",
            "accuracy is 31.900000000000002, test_loss is 1.9103973883732108\n",
            "epoch:10-----------------------------------\n",
            "loss is 2.017819881439209, [0 / 50000]\n",
            "loss is 1.9062747955322266, [6400 / 50000]\n",
            "loss is 1.754774570465088, [12800 / 50000]\n",
            "loss is 1.892734169960022, [19200 / 50000]\n",
            "loss is 1.8784539699554443, [25600 / 50000]\n",
            "loss is 1.9938002824783325, [32000 / 50000]\n",
            "loss is 2.0160582065582275, [38400 / 50000]\n",
            "loss is 1.8472126722335815, [44800 / 50000]\n",
            "accuracy is 32.73, test_loss is 1.8840179170013234\n",
            "epoch:11-----------------------------------\n",
            "loss is 1.914318561553955, [0 / 50000]\n",
            "loss is 1.94107985496521, [6400 / 50000]\n",
            "loss is 1.9570878744125366, [12800 / 50000]\n",
            "loss is 2.003462076187134, [19200 / 50000]\n",
            "loss is 1.9901372194290161, [25600 / 50000]\n",
            "loss is 1.809705138206482, [32000 / 50000]\n",
            "loss is 1.8795455694198608, [38400 / 50000]\n",
            "loss is 1.8998074531555176, [44800 / 50000]\n",
            "accuracy is 33.52, test_loss is 1.8583530172420915\n",
            "epoch:12-----------------------------------\n",
            "loss is 1.8474825620651245, [0 / 50000]\n",
            "loss is 1.9434982538223267, [6400 / 50000]\n",
            "loss is 1.8748149871826172, [12800 / 50000]\n",
            "loss is 1.8044867515563965, [19200 / 50000]\n",
            "loss is 1.764242172241211, [25600 / 50000]\n",
            "loss is 1.8491390943527222, [32000 / 50000]\n",
            "loss is 1.8964409828186035, [38400 / 50000]\n",
            "loss is 1.8427634239196777, [44800 / 50000]\n",
            "accuracy is 34.74, test_loss is 1.8308622449826284\n",
            "epoch:13-----------------------------------\n",
            "loss is 1.7412033081054688, [0 / 50000]\n",
            "loss is 1.8995153903961182, [6400 / 50000]\n",
            "loss is 1.8188177347183228, [12800 / 50000]\n",
            "loss is 1.9089505672454834, [19200 / 50000]\n",
            "loss is 1.9731740951538086, [25600 / 50000]\n",
            "loss is 1.82048761844635, [32000 / 50000]\n",
            "loss is 1.870330572128296, [38400 / 50000]\n",
            "loss is 1.7792340517044067, [44800 / 50000]\n",
            "accuracy is 35.88, test_loss is 1.7997338938864933\n",
            "epoch:14-----------------------------------\n",
            "loss is 1.7593121528625488, [0 / 50000]\n",
            "loss is 1.8536217212677002, [6400 / 50000]\n",
            "loss is 1.8195326328277588, [12800 / 50000]\n",
            "loss is 1.9742097854614258, [19200 / 50000]\n",
            "loss is 1.9366116523742676, [25600 / 50000]\n",
            "loss is 1.877506971359253, [32000 / 50000]\n",
            "loss is 1.9272536039352417, [38400 / 50000]\n",
            "loss is 1.7948017120361328, [44800 / 50000]\n",
            "accuracy is 37.019999999999996, test_loss is 1.7716039510289574\n",
            "epoch:15-----------------------------------\n",
            "loss is 1.783515453338623, [0 / 50000]\n",
            "loss is 2.066387891769409, [6400 / 50000]\n",
            "loss is 1.6937906742095947, [12800 / 50000]\n",
            "loss is 1.734436273574829, [19200 / 50000]\n",
            "loss is 1.6965748071670532, [25600 / 50000]\n",
            "loss is 1.8225672245025635, [32000 / 50000]\n",
            "loss is 1.6547374725341797, [38400 / 50000]\n",
            "loss is 1.7299644947052002, [44800 / 50000]\n",
            "accuracy is 37.72, test_loss is 1.7434389333056797\n",
            "epoch:16-----------------------------------\n",
            "loss is 1.85806405544281, [0 / 50000]\n",
            "loss is 1.6717004776000977, [6400 / 50000]\n",
            "loss is 1.8163013458251953, [12800 / 50000]\n",
            "loss is 1.659433364868164, [19200 / 50000]\n",
            "loss is 1.7248514890670776, [25600 / 50000]\n",
            "loss is 1.7919727563858032, [32000 / 50000]\n",
            "loss is 1.8238598108291626, [38400 / 50000]\n",
            "loss is 1.51142418384552, [44800 / 50000]\n",
            "accuracy is 38.51, test_loss is 1.7182082142799524\n",
            "epoch:17-----------------------------------\n",
            "loss is 1.867206335067749, [0 / 50000]\n",
            "loss is 1.8730947971343994, [6400 / 50000]\n",
            "loss is 1.7081642150878906, [12800 / 50000]\n",
            "loss is 1.7340195178985596, [19200 / 50000]\n",
            "loss is 1.6640411615371704, [25600 / 50000]\n",
            "loss is 1.5962979793548584, [32000 / 50000]\n",
            "loss is 1.813685417175293, [38400 / 50000]\n",
            "loss is 1.6788676977157593, [44800 / 50000]\n",
            "accuracy is 38.75, test_loss is 1.6926262545737492\n",
            "epoch:18-----------------------------------\n",
            "loss is 1.7140182256698608, [0 / 50000]\n",
            "loss is 1.6506363153457642, [6400 / 50000]\n",
            "loss is 1.8212546110153198, [12800 / 50000]\n",
            "loss is 1.815421223640442, [19200 / 50000]\n",
            "loss is 1.5583391189575195, [25600 / 50000]\n",
            "loss is 1.4955037832260132, [32000 / 50000]\n",
            "loss is 1.6579601764678955, [38400 / 50000]\n",
            "loss is 1.7390979528427124, [44800 / 50000]\n",
            "accuracy is 39.83, test_loss is 1.6667061877098812\n",
            "epoch:19-----------------------------------\n",
            "loss is 1.5714136362075806, [0 / 50000]\n",
            "loss is 1.624494194984436, [6400 / 50000]\n",
            "loss is 1.7124494314193726, [12800 / 50000]\n",
            "loss is 1.6435997486114502, [19200 / 50000]\n",
            "loss is 1.7302993535995483, [25600 / 50000]\n",
            "loss is 1.7691922187805176, [32000 / 50000]\n",
            "loss is 1.5839040279388428, [38400 / 50000]\n",
            "loss is 1.705314040184021, [44800 / 50000]\n",
            "accuracy is 40.53, test_loss is 1.6459061742588212\n",
            "epoch:20-----------------------------------\n",
            "loss is 1.6502999067306519, [0 / 50000]\n",
            "loss is 1.707343578338623, [6400 / 50000]\n",
            "loss is 1.9787135124206543, [12800 / 50000]\n",
            "loss is 1.6727408170700073, [19200 / 50000]\n",
            "loss is 1.5429993867874146, [25600 / 50000]\n",
            "loss is 1.940534234046936, [32000 / 50000]\n",
            "loss is 1.570234775543213, [38400 / 50000]\n",
            "loss is 1.7751399278640747, [44800 / 50000]\n",
            "accuracy is 40.98, test_loss is 1.6226594402531909\n",
            "epoch:21-----------------------------------\n",
            "loss is 1.7800878286361694, [0 / 50000]\n",
            "loss is 1.6374019384384155, [6400 / 50000]\n",
            "loss is 1.6027942895889282, [12800 / 50000]\n",
            "loss is 1.4971781969070435, [19200 / 50000]\n",
            "loss is 1.8181509971618652, [25600 / 50000]\n",
            "loss is 1.7573939561843872, [32000 / 50000]\n",
            "loss is 1.7458077669143677, [38400 / 50000]\n",
            "loss is 1.5824452638626099, [44800 / 50000]\n",
            "accuracy is 41.46, test_loss is 1.6099782020423063\n",
            "epoch:22-----------------------------------\n",
            "loss is 1.714077353477478, [0 / 50000]\n",
            "loss is 1.7324299812316895, [6400 / 50000]\n",
            "loss is 1.6017091274261475, [12800 / 50000]\n",
            "loss is 1.519397258758545, [19200 / 50000]\n",
            "loss is 1.478809118270874, [25600 / 50000]\n",
            "loss is 1.6012425422668457, [32000 / 50000]\n",
            "loss is 1.779646396636963, [38400 / 50000]\n",
            "loss is 1.7881327867507935, [44800 / 50000]\n",
            "accuracy is 42.3, test_loss is 1.5914568954212651\n",
            "epoch:23-----------------------------------\n",
            "loss is 1.4112147092819214, [0 / 50000]\n",
            "loss is 1.7065455913543701, [6400 / 50000]\n",
            "loss is 1.6119704246520996, [12800 / 50000]\n",
            "loss is 1.607203722000122, [19200 / 50000]\n",
            "loss is 1.5065903663635254, [25600 / 50000]\n",
            "loss is 1.6018258333206177, [32000 / 50000]\n",
            "loss is 1.6076338291168213, [38400 / 50000]\n",
            "loss is 1.6656535863876343, [44800 / 50000]\n",
            "accuracy is 42.82, test_loss is 1.5780349499101092\n",
            "epoch:24-----------------------------------\n",
            "loss is 1.5430247783660889, [0 / 50000]\n",
            "loss is 1.5358473062515259, [6400 / 50000]\n",
            "loss is 1.5138652324676514, [12800 / 50000]\n",
            "loss is 1.752204418182373, [19200 / 50000]\n",
            "loss is 1.5158600807189941, [25600 / 50000]\n",
            "loss is 1.4657127857208252, [32000 / 50000]\n",
            "loss is 1.5614591836929321, [38400 / 50000]\n",
            "loss is 1.5830960273742676, [44800 / 50000]\n",
            "accuracy is 43.480000000000004, test_loss is 1.5634867545146092\n",
            "epoch:25-----------------------------------\n",
            "loss is 1.555381178855896, [0 / 50000]\n",
            "loss is 1.405357837677002, [6400 / 50000]\n",
            "loss is 1.5651875734329224, [12800 / 50000]\n",
            "loss is 1.4851535558700562, [19200 / 50000]\n",
            "loss is 1.6407579183578491, [25600 / 50000]\n",
            "loss is 1.5295023918151855, [32000 / 50000]\n",
            "loss is 1.4624463319778442, [38400 / 50000]\n",
            "loss is 1.3475890159606934, [44800 / 50000]\n",
            "accuracy is 43.94, test_loss is 1.547194837005275\n",
            "epoch:26-----------------------------------\n",
            "loss is 1.6218440532684326, [0 / 50000]\n",
            "loss is 1.507735013961792, [6400 / 50000]\n",
            "loss is 1.7845988273620605, [12800 / 50000]\n",
            "loss is 1.401476502418518, [19200 / 50000]\n",
            "loss is 1.3778074979782104, [25600 / 50000]\n",
            "loss is 1.5522030591964722, [32000 / 50000]\n",
            "loss is 1.418016791343689, [38400 / 50000]\n",
            "loss is 1.5777027606964111, [44800 / 50000]\n",
            "accuracy is 44.18, test_loss is 1.537711815469584\n",
            "epoch:27-----------------------------------\n",
            "loss is 1.5321897268295288, [0 / 50000]\n",
            "loss is 1.3956892490386963, [6400 / 50000]\n",
            "loss is 1.5305341482162476, [12800 / 50000]\n",
            "loss is 1.6310476064682007, [19200 / 50000]\n",
            "loss is 1.4739580154418945, [25600 / 50000]\n",
            "loss is 1.4438538551330566, [32000 / 50000]\n",
            "loss is 1.670941710472107, [38400 / 50000]\n",
            "loss is 1.4209212064743042, [44800 / 50000]\n",
            "accuracy is 45.129999999999995, test_loss is 1.520158268084192\n",
            "epoch:28-----------------------------------\n",
            "loss is 1.4810770750045776, [0 / 50000]\n",
            "loss is 1.465827465057373, [6400 / 50000]\n",
            "loss is 1.3454774618148804, [12800 / 50000]\n",
            "loss is 1.5838840007781982, [19200 / 50000]\n",
            "loss is 1.484451174736023, [25600 / 50000]\n",
            "loss is 1.500726342201233, [32000 / 50000]\n",
            "loss is 1.3599858283996582, [38400 / 50000]\n",
            "loss is 1.4322060346603394, [44800 / 50000]\n",
            "accuracy is 45.32, test_loss is 1.5139039929505367\n",
            "epoch:29-----------------------------------\n",
            "loss is 1.6799834966659546, [0 / 50000]\n",
            "loss is 1.6224042177200317, [6400 / 50000]\n",
            "loss is 1.4778082370758057, [12800 / 50000]\n",
            "loss is 1.6534209251403809, [19200 / 50000]\n",
            "loss is 1.2233234643936157, [25600 / 50000]\n",
            "loss is 1.4764434099197388, [32000 / 50000]\n",
            "loss is 1.4627469778060913, [38400 / 50000]\n",
            "loss is 1.5497480630874634, [44800 / 50000]\n",
            "accuracy is 46.44, test_loss is 1.4959646774705049\n",
            "epoch:30-----------------------------------\n",
            "loss is 1.4993902444839478, [0 / 50000]\n",
            "loss is 1.399850606918335, [6400 / 50000]\n",
            "loss is 1.337820053100586, [12800 / 50000]\n",
            "loss is 1.5480343103408813, [19200 / 50000]\n",
            "loss is 1.5577682256698608, [25600 / 50000]\n",
            "loss is 1.5126099586486816, [32000 / 50000]\n",
            "loss is 1.582096815109253, [38400 / 50000]\n",
            "loss is 1.4233036041259766, [44800 / 50000]\n",
            "accuracy is 46.71, test_loss is 1.4819769677083203\n",
            "epoch:31-----------------------------------\n",
            "loss is 1.5186553001403809, [0 / 50000]\n",
            "loss is 1.3872761726379395, [6400 / 50000]\n",
            "loss is 1.4393823146820068, [12800 / 50000]\n",
            "loss is 1.4720340967178345, [19200 / 50000]\n",
            "loss is 1.6140692234039307, [25600 / 50000]\n",
            "loss is 1.3163074254989624, [32000 / 50000]\n",
            "loss is 1.3789256811141968, [38400 / 50000]\n",
            "loss is 1.4994710683822632, [44800 / 50000]\n",
            "accuracy is 47.31, test_loss is 1.4693692436643466\n",
            "epoch:32-----------------------------------\n",
            "loss is 1.4697935581207275, [0 / 50000]\n",
            "loss is 1.6250039339065552, [6400 / 50000]\n",
            "loss is 1.5472975969314575, [12800 / 50000]\n",
            "loss is 1.5340285301208496, [19200 / 50000]\n",
            "loss is 1.2747011184692383, [25600 / 50000]\n",
            "loss is 1.4705350399017334, [32000 / 50000]\n",
            "loss is 1.3659244775772095, [38400 / 50000]\n",
            "loss is 1.3128384351730347, [44800 / 50000]\n",
            "accuracy is 47.94, test_loss is 1.4619401617414634\n",
            "epoch:33-----------------------------------\n",
            "loss is 1.6125755310058594, [0 / 50000]\n",
            "loss is 1.510819673538208, [6400 / 50000]\n",
            "loss is 1.4137041568756104, [12800 / 50000]\n",
            "loss is 1.7009227275848389, [19200 / 50000]\n",
            "loss is 1.5553271770477295, [25600 / 50000]\n",
            "loss is 1.2940781116485596, [32000 / 50000]\n",
            "loss is 1.49302339553833, [38400 / 50000]\n",
            "loss is 1.4666621685028076, [44800 / 50000]\n",
            "accuracy is 48.03, test_loss is 1.446969574424112\n",
            "epoch:34-----------------------------------\n",
            "loss is 1.322049856185913, [0 / 50000]\n",
            "loss is 1.5584197044372559, [6400 / 50000]\n",
            "loss is 1.3584109544754028, [12800 / 50000]\n",
            "loss is 1.562924861907959, [19200 / 50000]\n",
            "loss is 1.3619952201843262, [25600 / 50000]\n",
            "loss is 1.5274313688278198, [32000 / 50000]\n",
            "loss is 1.5405664443969727, [38400 / 50000]\n",
            "loss is 1.5595864057540894, [44800 / 50000]\n",
            "accuracy is 48.57, test_loss is 1.4390642627788957\n",
            "epoch:35-----------------------------------\n",
            "loss is 1.3327922821044922, [0 / 50000]\n",
            "loss is 1.42903470993042, [6400 / 50000]\n",
            "loss is 1.2953494787216187, [12800 / 50000]\n",
            "loss is 1.36752450466156, [19200 / 50000]\n",
            "loss is 1.4543365240097046, [25600 / 50000]\n",
            "loss is 1.4329464435577393, [32000 / 50000]\n",
            "loss is 1.346098780632019, [38400 / 50000]\n",
            "loss is 1.3624733686447144, [44800 / 50000]\n",
            "accuracy is 48.29, test_loss is 1.430090060659275\n",
            "epoch:36-----------------------------------\n",
            "loss is 1.5815708637237549, [0 / 50000]\n",
            "loss is 1.5702232122421265, [6400 / 50000]\n",
            "loss is 1.424391269683838, [12800 / 50000]\n",
            "loss is 1.323566198348999, [19200 / 50000]\n",
            "loss is 1.3729673624038696, [25600 / 50000]\n",
            "loss is 1.2882691621780396, [32000 / 50000]\n",
            "loss is 1.3773707151412964, [38400 / 50000]\n",
            "loss is 1.5805271863937378, [44800 / 50000]\n",
            "accuracy is 48.67, test_loss is 1.425118589097527\n",
            "epoch:37-----------------------------------\n",
            "loss is 1.5598543882369995, [0 / 50000]\n",
            "loss is 1.4696156978607178, [6400 / 50000]\n",
            "loss is 1.4745633602142334, [12800 / 50000]\n",
            "loss is 1.3189746141433716, [19200 / 50000]\n",
            "loss is 1.4325411319732666, [25600 / 50000]\n",
            "loss is 1.4648586511611938, [32000 / 50000]\n",
            "loss is 1.404350996017456, [38400 / 50000]\n",
            "loss is 1.2853152751922607, [44800 / 50000]\n",
            "accuracy is 49.58, test_loss is 1.4128510587534326\n",
            "epoch:38-----------------------------------\n",
            "loss is 1.3567874431610107, [0 / 50000]\n",
            "loss is 1.4087878465652466, [6400 / 50000]\n",
            "loss is 1.0943167209625244, [12800 / 50000]\n",
            "loss is 1.4435389041900635, [19200 / 50000]\n",
            "loss is 1.308003306388855, [25600 / 50000]\n",
            "loss is 1.6837654113769531, [32000 / 50000]\n",
            "loss is 1.367706060409546, [38400 / 50000]\n",
            "loss is 1.3749452829360962, [44800 / 50000]\n",
            "accuracy is 49.8, test_loss is 1.4062560432276148\n",
            "epoch:39-----------------------------------\n",
            "loss is 1.4209331274032593, [0 / 50000]\n",
            "loss is 1.3983674049377441, [6400 / 50000]\n",
            "loss is 1.3365565538406372, [12800 / 50000]\n",
            "loss is 1.6214418411254883, [19200 / 50000]\n",
            "loss is 1.3420430421829224, [25600 / 50000]\n",
            "loss is 1.3019530773162842, [32000 / 50000]\n",
            "loss is 1.5093685388565063, [38400 / 50000]\n",
            "loss is 1.3502479791641235, [44800 / 50000]\n",
            "accuracy is 49.97, test_loss is 1.3968614749847703\n",
            "epoch:40-----------------------------------\n",
            "loss is 1.5954123735427856, [0 / 50000]\n",
            "loss is 1.5006269216537476, [6400 / 50000]\n",
            "loss is 1.4834762811660767, [12800 / 50000]\n",
            "loss is 1.3782193660736084, [19200 / 50000]\n",
            "loss is 1.3875150680541992, [25600 / 50000]\n",
            "loss is 1.2802587747573853, [32000 / 50000]\n",
            "loss is 1.3762086629867554, [38400 / 50000]\n",
            "loss is 1.3534303903579712, [44800 / 50000]\n",
            "accuracy is 49.79, test_loss is 1.4053096953470996\n",
            "epoch:41-----------------------------------\n",
            "loss is 1.3579059839248657, [0 / 50000]\n",
            "loss is 1.6165549755096436, [6400 / 50000]\n",
            "loss is 1.5328246355056763, [12800 / 50000]\n",
            "loss is 1.5750253200531006, [19200 / 50000]\n",
            "loss is 1.150877594947815, [25600 / 50000]\n",
            "loss is 1.381980061531067, [32000 / 50000]\n",
            "loss is 1.332290768623352, [38400 / 50000]\n",
            "loss is 1.3350083827972412, [44800 / 50000]\n",
            "accuracy is 50.24999999999999, test_loss is 1.3921898109897686\n",
            "epoch:42-----------------------------------\n",
            "loss is 1.3956732749938965, [0 / 50000]\n",
            "loss is 1.3680493831634521, [6400 / 50000]\n",
            "loss is 1.2863235473632812, [12800 / 50000]\n",
            "loss is 1.4725391864776611, [19200 / 50000]\n",
            "loss is 1.4934192895889282, [25600 / 50000]\n",
            "loss is 1.6267634630203247, [32000 / 50000]\n",
            "loss is 1.1812689304351807, [38400 / 50000]\n",
            "loss is 1.4759101867675781, [44800 / 50000]\n",
            "accuracy is 50.690000000000005, test_loss is 1.3777150515538112\n",
            "epoch:43-----------------------------------\n",
            "loss is 1.3750501871109009, [0 / 50000]\n",
            "loss is 1.2009774446487427, [6400 / 50000]\n",
            "loss is 1.3382596969604492, [12800 / 50000]\n",
            "loss is 1.3253313302993774, [19200 / 50000]\n",
            "loss is 1.4346249103546143, [25600 / 50000]\n",
            "loss is 1.474918007850647, [32000 / 50000]\n",
            "loss is 1.6666313409805298, [38400 / 50000]\n",
            "loss is 1.486124873161316, [44800 / 50000]\n",
            "accuracy is 50.71, test_loss is 1.377904425001448\n",
            "epoch:44-----------------------------------\n",
            "loss is 1.1769577264785767, [0 / 50000]\n",
            "loss is 1.2910289764404297, [6400 / 50000]\n",
            "loss is 1.3446228504180908, [12800 / 50000]\n",
            "loss is 1.1830346584320068, [19200 / 50000]\n",
            "loss is 1.4709861278533936, [25600 / 50000]\n",
            "loss is 1.3053146600723267, [32000 / 50000]\n",
            "loss is 1.1999329328536987, [38400 / 50000]\n",
            "loss is 1.1106855869293213, [44800 / 50000]\n",
            "accuracy is 51.05, test_loss is 1.366185797247917\n",
            "epoch:45-----------------------------------\n",
            "loss is 1.325381875038147, [0 / 50000]\n",
            "loss is 1.4542112350463867, [6400 / 50000]\n",
            "loss is 1.2995281219482422, [12800 / 50000]\n",
            "loss is 1.2924809455871582, [19200 / 50000]\n",
            "loss is 1.1774961948394775, [25600 / 50000]\n",
            "loss is 1.352634310722351, [32000 / 50000]\n",
            "loss is 1.3546042442321777, [38400 / 50000]\n",
            "loss is 1.4206641912460327, [44800 / 50000]\n",
            "accuracy is 51.67, test_loss is 1.3601891743909023\n",
            "epoch:46-----------------------------------\n",
            "loss is 1.344334602355957, [0 / 50000]\n",
            "loss is 1.2882634401321411, [6400 / 50000]\n",
            "loss is 1.3163745403289795, [12800 / 50000]\n",
            "loss is 1.447149634361267, [19200 / 50000]\n",
            "loss is 1.2505131959915161, [25600 / 50000]\n",
            "loss is 1.5688717365264893, [32000 / 50000]\n",
            "loss is 1.3787339925765991, [38400 / 50000]\n",
            "loss is 1.4411545991897583, [44800 / 50000]\n",
            "accuracy is 51.55, test_loss is 1.3616378732547638\n",
            "epoch:47-----------------------------------\n",
            "loss is 1.2011100053787231, [0 / 50000]\n",
            "loss is 1.2647006511688232, [6400 / 50000]\n",
            "loss is 1.3446760177612305, [12800 / 50000]\n",
            "loss is 1.4556080102920532, [19200 / 50000]\n",
            "loss is 1.1338342428207397, [25600 / 50000]\n",
            "loss is 1.2520381212234497, [32000 / 50000]\n",
            "loss is 1.234946370124817, [38400 / 50000]\n",
            "loss is 1.4033617973327637, [44800 / 50000]\n",
            "accuracy is 51.849999999999994, test_loss is 1.3451820710662064\n",
            "epoch:48-----------------------------------\n",
            "loss is 1.3092749118804932, [0 / 50000]\n",
            "loss is 1.4900379180908203, [6400 / 50000]\n",
            "loss is 1.1947293281555176, [12800 / 50000]\n",
            "loss is 1.2234934568405151, [19200 / 50000]\n",
            "loss is 1.3271901607513428, [25600 / 50000]\n",
            "loss is 1.5100644826889038, [32000 / 50000]\n",
            "loss is 1.3388420343399048, [38400 / 50000]\n",
            "loss is 1.166884183883667, [44800 / 50000]\n",
            "accuracy is 52.480000000000004, test_loss is 1.3386121012602643\n",
            "epoch:49-----------------------------------\n",
            "loss is 1.576844334602356, [0 / 50000]\n",
            "loss is 1.4032129049301147, [6400 / 50000]\n",
            "loss is 1.1609481573104858, [12800 / 50000]\n",
            "loss is 1.475177526473999, [19200 / 50000]\n",
            "loss is 1.307427167892456, [25600 / 50000]\n",
            "loss is 1.593398928642273, [32000 / 50000]\n",
            "loss is 1.3007069826126099, [38400 / 50000]\n",
            "loss is 1.256500482559204, [44800 / 50000]\n",
            "accuracy is 52.26, test_loss is 1.3360771039488968\n",
            "epoch:50-----------------------------------\n",
            "loss is 1.3494467735290527, [0 / 50000]\n",
            "loss is 1.3135007619857788, [6400 / 50000]\n",
            "loss is 1.2751506567001343, [12800 / 50000]\n",
            "loss is 1.2639880180358887, [19200 / 50000]\n",
            "loss is 1.4053988456726074, [25600 / 50000]\n",
            "loss is 1.4625262022018433, [32000 / 50000]\n",
            "loss is 1.3219714164733887, [38400 / 50000]\n",
            "loss is 1.587141990661621, [44800 / 50000]\n",
            "accuracy is 52.7, test_loss is 1.3323297219671262\n",
            "DONE!!!\n"
          ]
        }
      ]
    }
  ]
}